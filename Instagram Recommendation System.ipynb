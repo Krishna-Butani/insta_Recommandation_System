{
 "cells": [
  {
   "cell_type": "markdown",
   "id": "b1471c14-8b6c-451c-9034-222540c6239f",
   "metadata": {},
   "source": [
    "1. Install Required Libraries"
   ]
  },
  {
   "cell_type": "code",
   "execution_count": 1,
   "id": "4bf85a22-81ec-4c9c-8e46-ebba4cd6063f",
   "metadata": {
    "scrolled": true
   },
   "outputs": [
    {
     "name": "stdout",
     "output_type": "stream",
     "text": [
      "Requirement already satisfied: pandas in c:\\users\\krishna\\appdata\\local\\programs\\python\\python313\\lib\\site-packages (2.2.3)\n",
      "Requirement already satisfied: scikit-learn in c:\\users\\krishna\\appdata\\local\\programs\\python\\python313\\lib\\site-packages (1.6.1)\n",
      "Requirement already satisfied: matplotlib in c:\\users\\krishna\\appdata\\local\\programs\\python\\python313\\lib\\site-packages (3.10.1)\n",
      "Requirement already satisfied: numpy>=1.26.0 in c:\\users\\krishna\\appdata\\local\\programs\\python\\python313\\lib\\site-packages (from pandas) (2.1.2)\n",
      "Requirement already satisfied: python-dateutil>=2.8.2 in c:\\users\\krishna\\appdata\\local\\programs\\python\\python313\\lib\\site-packages (from pandas) (2.9.0.post0)\n",
      "Requirement already satisfied: pytz>=2020.1 in c:\\users\\krishna\\appdata\\local\\programs\\python\\python313\\lib\\site-packages (from pandas) (2024.2)\n",
      "Requirement already satisfied: tzdata>=2022.7 in c:\\users\\krishna\\appdata\\local\\programs\\python\\python313\\lib\\site-packages (from pandas) (2024.2)\n",
      "Requirement already satisfied: scipy>=1.6.0 in c:\\users\\krishna\\appdata\\local\\programs\\python\\python313\\lib\\site-packages (from scikit-learn) (1.15.2)\n",
      "Requirement already satisfied: joblib>=1.2.0 in c:\\users\\krishna\\appdata\\local\\programs\\python\\python313\\lib\\site-packages (from scikit-learn) (1.4.2)\n",
      "Requirement already satisfied: threadpoolctl>=3.1.0 in c:\\users\\krishna\\appdata\\local\\programs\\python\\python313\\lib\\site-packages (from scikit-learn) (3.5.0)\n",
      "Requirement already satisfied: contourpy>=1.0.1 in c:\\users\\krishna\\appdata\\local\\programs\\python\\python313\\lib\\site-packages (from matplotlib) (1.3.1)\n",
      "Requirement already satisfied: cycler>=0.10 in c:\\users\\krishna\\appdata\\local\\programs\\python\\python313\\lib\\site-packages (from matplotlib) (0.12.1)\n",
      "Requirement already satisfied: fonttools>=4.22.0 in c:\\users\\krishna\\appdata\\local\\programs\\python\\python313\\lib\\site-packages (from matplotlib) (4.56.0)\n",
      "Requirement already satisfied: kiwisolver>=1.3.1 in c:\\users\\krishna\\appdata\\local\\programs\\python\\python313\\lib\\site-packages (from matplotlib) (1.4.8)\n",
      "Requirement already satisfied: packaging>=20.0 in c:\\users\\krishna\\appdata\\local\\programs\\python\\python313\\lib\\site-packages (from matplotlib) (24.2)\n",
      "Requirement already satisfied: pillow>=8 in c:\\users\\krishna\\appdata\\local\\programs\\python\\python313\\lib\\site-packages (from matplotlib) (11.1.0)\n",
      "Requirement already satisfied: pyparsing>=2.3.1 in c:\\users\\krishna\\appdata\\local\\programs\\python\\python313\\lib\\site-packages (from matplotlib) (3.2.1)\n",
      "Requirement already satisfied: six>=1.5 in c:\\users\\krishna\\appdata\\local\\programs\\python\\python313\\lib\\site-packages (from python-dateutil>=2.8.2->pandas) (1.16.0)\n"
     ]
    },
    {
     "name": "stderr",
     "output_type": "stream",
     "text": [
      "\n",
      "[notice] A new release of pip is available: 24.2 -> 25.0.1\n",
      "[notice] To update, run: python.exe -m pip install --upgrade pip\n"
     ]
    }
   ],
   "source": [
    "# Install Required Libraries\n",
    "!pip install pandas scikit-learn matplotlib \n",
    "#The (!) exlimtionmark is used to run shell commands in Jypyter Notebook\n",
    "#Installs pandas (for data handling)\n",
    "#scikit-learn (for similarity calculation)\n",
    "#matplotlib(for visualization)"
   ]
  },
  {
   "cell_type": "markdown",
   "id": "5a01b924-aa38-4c1d-87f3-9ccc8781398d",
   "metadata": {},
   "source": [
    "2. Import Necessar Libraries"
   ]
  },
  {
   "cell_type": "code",
   "execution_count": 2,
   "id": "0edfcc9c-cd9f-4d23-a495-66bb8b98fcd1",
   "metadata": {},
   "outputs": [],
   "source": [
    "# Import Modules\n",
    "import pandas as pd # Handles dataset loading and manipulation\n",
    "from sklearn.metrics.pairwise import cosine_similarity #Measures similarity between user prefrence and posts\n",
    "import matplotlib.pyplot as plt # Creates visualizations"
   ]
  },
  {
   "cell_type": "markdown",
   "id": "ae98f7d5-2dab-405f-a9e0-97a7305d075c",
   "metadata": {},
   "source": [
    "3. Load and Prepare Data"
   ]
  },
  {
   "cell_type": "code",
   "execution_count": 3,
   "id": "7b415f6c-fb7f-4f26-97f8-9b26e75b4233",
   "metadata": {},
   "outputs": [
    {
     "name": "stdout",
     "output_type": "stream",
     "text": [
      "First 5 rows of raw data:\n"
     ]
    },
    {
     "data": {
      "text/html": [
       "<div>\n",
       "<style scoped>\n",
       "    .dataframe tbody tr th:only-of-type {\n",
       "        vertical-align: middle;\n",
       "    }\n",
       "\n",
       "    .dataframe tbody tr th {\n",
       "        vertical-align: top;\n",
       "    }\n",
       "\n",
       "    .dataframe thead th {\n",
       "        text-align: right;\n",
       "    }\n",
       "</style>\n",
       "<table border=\"1\" class=\"dataframe\">\n",
       "  <thead>\n",
       "    <tr style=\"text-align: right;\">\n",
       "      <th></th>\n",
       "      <th>post_id</th>\n",
       "      <th>likes</th>\n",
       "      <th>comments</th>\n",
       "      <th>hashtags</th>\n",
       "    </tr>\n",
       "  </thead>\n",
       "  <tbody>\n",
       "    <tr>\n",
       "      <th>0</th>\n",
       "      <td>post_1</td>\n",
       "      <td>7111</td>\n",
       "      <td>191</td>\n",
       "      <td>[travel, fitness, food, fashion, music]</td>\n",
       "    </tr>\n",
       "    <tr>\n",
       "      <th>1</th>\n",
       "      <td>post_2</td>\n",
       "      <td>6153</td>\n",
       "      <td>183</td>\n",
       "      <td>[tech, nature]</td>\n",
       "    </tr>\n",
       "    <tr>\n",
       "      <th>2</th>\n",
       "      <td>post_3</td>\n",
       "      <td>9441</td>\n",
       "      <td>98</td>\n",
       "      <td>[fashion, art, food, lifestyle]</td>\n",
       "    </tr>\n",
       "    <tr>\n",
       "      <th>3</th>\n",
       "      <td>post_4</td>\n",
       "      <td>5593</td>\n",
       "      <td>240</td>\n",
       "      <td>[lifestyle, tech, nature, fashion, travel]</td>\n",
       "    </tr>\n",
       "    <tr>\n",
       "      <th>4</th>\n",
       "      <td>post_5</td>\n",
       "      <td>5408</td>\n",
       "      <td>975</td>\n",
       "      <td>[art]</td>\n",
       "    </tr>\n",
       "  </tbody>\n",
       "</table>\n",
       "</div>"
      ],
      "text/plain": [
       "  post_id  likes  comments                                    hashtags\n",
       "0  post_1   7111       191     [travel, fitness, food, fashion, music]\n",
       "1  post_2   6153       183                              [tech, nature]\n",
       "2  post_3   9441        98             [fashion, art, food, lifestyle]\n",
       "3  post_4   5593       240  [lifestyle, tech, nature, fashion, travel]\n",
       "4  post_5   5408       975                                       [art]"
      ]
     },
     "metadata": {},
     "output_type": "display_data"
    }
   ],
   "source": [
    "df = pd.read_csv('instagram_dataset.csv') #Reads the dataset from a csv firl into a pandas DataFrame.\n",
    "\n",
    "# Clean hashtags and convert to list\n",
    "df['hashtags'] = df['hashtags'].str.split('#') # Splits the hashtags column (which is a single string) into a list of hashags\n",
    "\n",
    "print(\"First 5 rows of raw data:\") \n",
    "display(df.head()) \n",
    "#Displays the first 5 rows of the dataset to check its strucure."
   ]
  },
  {
   "cell_type": "markdown",
   "id": "816cde1f-4992-45ff-8cbc-46ddc36cf3d3",
   "metadata": {},
   "source": [
    "4. One-Hot Encoding of Hashtags"
   ]
  },
  {
   "cell_type": "code",
   "execution_count": 4,
   "id": "357d1d01-ac37-4b60-9697-5f9f8b44adfb",
   "metadata": {},
   "outputs": [
    {
     "name": "stdout",
     "output_type": "stream",
     "text": [
      "\n",
      "Processed data with one-hot encoded hashtags:\n"
     ]
    },
    {
     "data": {
      "text/html": [
       "<div>\n",
       "<style scoped>\n",
       "    .dataframe tbody tr th:only-of-type {\n",
       "        vertical-align: middle;\n",
       "    }\n",
       "\n",
       "    .dataframe tbody tr th {\n",
       "        vertical-align: top;\n",
       "    }\n",
       "\n",
       "    .dataframe thead th {\n",
       "        text-align: right;\n",
       "    }\n",
       "</style>\n",
       "<table border=\"1\" class=\"dataframe\">\n",
       "  <thead>\n",
       "    <tr style=\"text-align: right;\">\n",
       "      <th></th>\n",
       "      <th>post_id</th>\n",
       "      <th>likes</th>\n",
       "      <th>comments</th>\n",
       "      <th>art</th>\n",
       "      <th>fashion</th>\n",
       "      <th>fitness</th>\n",
       "      <th>food</th>\n",
       "      <th>lifestyle</th>\n",
       "    </tr>\n",
       "  </thead>\n",
       "  <tbody>\n",
       "    <tr>\n",
       "      <th>0</th>\n",
       "      <td>post_1</td>\n",
       "      <td>7111</td>\n",
       "      <td>191</td>\n",
       "      <td>0</td>\n",
       "      <td>1</td>\n",
       "      <td>1</td>\n",
       "      <td>1</td>\n",
       "      <td>0</td>\n",
       "    </tr>\n",
       "    <tr>\n",
       "      <th>1</th>\n",
       "      <td>post_2</td>\n",
       "      <td>6153</td>\n",
       "      <td>183</td>\n",
       "      <td>0</td>\n",
       "      <td>0</td>\n",
       "      <td>0</td>\n",
       "      <td>0</td>\n",
       "      <td>0</td>\n",
       "    </tr>\n",
       "  </tbody>\n",
       "</table>\n",
       "</div>"
      ],
      "text/plain": [
       "  post_id  likes  comments  art  fashion  fitness  food  lifestyle\n",
       "0  post_1   7111       191    0        1        1     1          0\n",
       "1  post_2   6153       183    0        0        0     0          0"
      ]
     },
     "metadata": {},
     "output_type": "display_data"
    }
   ],
   "source": [
    "'''One-hot encoding is a technique to convert hashtags into a numbers format for machine learning models can understand.'''\n",
    "\n",
    "hashtag_dummies = df['hashtags'].explode().str.get_dummies().groupby(level=0).max() \n",
    "#Explodes the list of hashtags into separate rows.\n",
    "#Converts them into binary columns (1 if a hashtag is present, 0 otherwise)\n",
    "\n",
    "#Merges back with original data\n",
    "#Creates binary columns for each hashtag\n",
    "df = pd.concat([df.drop('hashtags', axis=1), hashtag_dummies], axis=1)\n",
    "\n",
    "print(\"\\nProcessed data with one-hot encoded hashtags:\")\n",
    "# Show first 2 rows and first 8 columns\n",
    "display(df.iloc[:2, :8])  "
   ]
  },
  {
   "cell_type": "markdown",
   "id": "ffccf0c3-a82a-44ee-a54c-d37dda48bed4",
   "metadata": {},
   "source": [
    "5. Define User Preferences"
   ]
  },
  {
   "cell_type": "code",
   "execution_count": 5,
   "id": "5359e953-4e47-4118-8fec-bf1676c599b4",
   "metadata": {},
   "outputs": [
    {
     "name": "stdout",
     "output_type": "stream",
     "text": [
      "\n",
      "User preference vector for 10 hashtags:\n",
      "{'art': 0, 'fashion': 0, 'fitness': 1, 'food': 1, 'lifestyle': 0, 'music': 0, 'nature': 0, 'photography': 0, 'tech': 0, 'travel': 1}\n"
     ]
    }
   ],
   "source": [
    "user_preferred_hashtags = ['travel', 'food', 'fitness']\n",
    "#Defines a sample user who likes travel, food, and fitness\n",
    "\n",
    "# Creates a binary vector\n",
    "all_hashtags = hashtag_dummies.columns\n",
    "#A user vector is a numerical representation of a user's preferences, typically as a list or array\n",
    "#this is used in recommendation systems, machine learning, and NLP to model user interests and behaviors.\n",
    "user_vector = [1 if tag in user_preferred_hashtags else 0 for tag in all_hashtags]\n",
    "# 1 means the hashtag is in the user's preference and 0 mean it is not\n",
    "\n",
    "#This prints a user preference vector by mapping hashtags to their respective values from user_vector.\n",
    "print(f\"\\nUser preference vector for {len(all_hashtags)} hashtags:\")\n",
    "#Uses an f-string to dynamically insert the number of hashtags into the text.\n",
    "print(dict(zip(all_hashtags, user_vector)))\n",
    "#zip is combines hashtags with their corresponding values and converts this into a dictionary."
   ]
  },
  {
   "cell_type": "markdown",
   "id": "1f7fa9ab-125f-4653-8748-80e5516b4349",
   "metadata": {},
   "source": [
    "6. Compute Similarity Scores"
   ]
  },
  {
   "cell_type": "code",
   "execution_count": 6,
   "id": "6df6f7f5-4644-4d1d-9de6-d850e08d3578",
   "metadata": {},
   "outputs": [
    {
     "name": "stdout",
     "output_type": "stream",
     "text": [
      "\n",
      "Sample posts with similarity scores:\n"
     ]
    },
    {
     "data": {
      "text/html": [
       "<div>\n",
       "<style scoped>\n",
       "    .dataframe tbody tr th:only-of-type {\n",
       "        vertical-align: middle;\n",
       "    }\n",
       "\n",
       "    .dataframe tbody tr th {\n",
       "        vertical-align: top;\n",
       "    }\n",
       "\n",
       "    .dataframe thead th {\n",
       "        text-align: right;\n",
       "    }\n",
       "</style>\n",
       "<table border=\"1\" class=\"dataframe\">\n",
       "  <thead>\n",
       "    <tr style=\"text-align: right;\">\n",
       "      <th></th>\n",
       "      <th>post_id</th>\n",
       "      <th>likes</th>\n",
       "      <th>comments</th>\n",
       "      <th>similarity</th>\n",
       "    </tr>\n",
       "  </thead>\n",
       "  <tbody>\n",
       "    <tr>\n",
       "      <th>0</th>\n",
       "      <td>post_1</td>\n",
       "      <td>7111</td>\n",
       "      <td>191</td>\n",
       "      <td>0.774597</td>\n",
       "    </tr>\n",
       "    <tr>\n",
       "      <th>1</th>\n",
       "      <td>post_2</td>\n",
       "      <td>6153</td>\n",
       "      <td>183</td>\n",
       "      <td>0.000000</td>\n",
       "    </tr>\n",
       "    <tr>\n",
       "      <th>2</th>\n",
       "      <td>post_3</td>\n",
       "      <td>9441</td>\n",
       "      <td>98</td>\n",
       "      <td>0.288675</td>\n",
       "    </tr>\n",
       "  </tbody>\n",
       "</table>\n",
       "</div>"
      ],
      "text/plain": [
       "  post_id  likes  comments  similarity\n",
       "0  post_1   7111       191    0.774597\n",
       "1  post_2   6153       183    0.000000\n",
       "2  post_3   9441        98    0.288675"
      ]
     },
     "metadata": {},
     "output_type": "display_data"
    }
   ],
   "source": [
    "#A Similarity Score is a numerical value that measures how similar two data points \n",
    "#It helps in recommendation systems, clustering, and search engines by comparing features.\n",
    "similarity_scores = cosine_similarity([user_vector], hashtag_dummies)\n",
    "# Computes cosine similarity  between the user's preferences and every post\n",
    "\n",
    "# Add score column to the DataFrame\n",
    "df['similarity'] = similarity_scores[0]\n",
    "\n",
    "print(\"\\nSample posts with similarity scores:\")\n",
    "display(df[['post_id', 'likes', 'comments', 'similarity']].head(3))\n",
    "#Displays sample posts with their similarity scores"
   ]
  },
  {
   "cell_type": "markdown",
   "id": "5f73095e-f4bc-4ade-8f14-b21b53b526f1",
   "metadata": {},
   "source": [
    "7. Generate Recommendations"
   ]
  },
  {
   "cell_type": "code",
   "execution_count": 7,
   "id": "f02c3e11-b8be-46a5-b566-61ef81b4af95",
   "metadata": {},
   "outputs": [
    {
     "name": "stdout",
     "output_type": "stream",
     "text": [
      "\n",
      "Top 5 Recommended Posts:\n"
     ]
    },
    {
     "data": {
      "text/html": [
       "<div>\n",
       "<style scoped>\n",
       "    .dataframe tbody tr th:only-of-type {\n",
       "        vertical-align: middle;\n",
       "    }\n",
       "\n",
       "    .dataframe tbody tr th {\n",
       "        vertical-align: top;\n",
       "    }\n",
       "\n",
       "    .dataframe thead th {\n",
       "        text-align: right;\n",
       "    }\n",
       "</style>\n",
       "<table border=\"1\" class=\"dataframe\">\n",
       "  <thead>\n",
       "    <tr style=\"text-align: right;\">\n",
       "      <th></th>\n",
       "      <th>post_id</th>\n",
       "      <th>likes</th>\n",
       "      <th>comments</th>\n",
       "      <th>similarity</th>\n",
       "    </tr>\n",
       "  </thead>\n",
       "  <tbody>\n",
       "    <tr>\n",
       "      <th>93</th>\n",
       "      <td>post_94</td>\n",
       "      <td>4867</td>\n",
       "      <td>430</td>\n",
       "      <td>1.000000</td>\n",
       "    </tr>\n",
       "    <tr>\n",
       "      <th>376</th>\n",
       "      <td>post_377</td>\n",
       "      <td>9393</td>\n",
       "      <td>233</td>\n",
       "      <td>1.000000</td>\n",
       "    </tr>\n",
       "    <tr>\n",
       "      <th>597</th>\n",
       "      <td>post_598</td>\n",
       "      <td>3696</td>\n",
       "      <td>555</td>\n",
       "      <td>0.866025</td>\n",
       "    </tr>\n",
       "    <tr>\n",
       "      <th>505</th>\n",
       "      <td>post_506</td>\n",
       "      <td>3156</td>\n",
       "      <td>699</td>\n",
       "      <td>0.866025</td>\n",
       "    </tr>\n",
       "    <tr>\n",
       "      <th>158</th>\n",
       "      <td>post_159</td>\n",
       "      <td>7675</td>\n",
       "      <td>412</td>\n",
       "      <td>0.866025</td>\n",
       "    </tr>\n",
       "  </tbody>\n",
       "</table>\n",
       "</div>"
      ],
      "text/plain": [
       "      post_id  likes  comments  similarity\n",
       "93    post_94   4867       430    1.000000\n",
       "376  post_377   9393       233    1.000000\n",
       "597  post_598   3696       555    0.866025\n",
       "505  post_506   3156       699    0.866025\n",
       "158  post_159   7675       412    0.866025"
      ]
     },
     "metadata": {},
     "output_type": "display_data"
    }
   ],
   "source": [
    "# Sort by higest similarity and selects top 5 recomondations.\n",
    "recommendations = df.sort_values('similarity', ascending=False).head(5)\n",
    "\n",
    "print(\"\\nTop 5 Recommended Posts:\")\n",
    "display(recommendations[['post_id', 'likes', 'comments', 'similarity']])\n",
    "#Display the recomonded posts"
   ]
  },
  {
   "cell_type": "markdown",
   "id": "d353b874-04f4-446d-ba0a-31b05f596aa5",
   "metadata": {},
   "source": [
    "8. Visualization of Recommendations"
   ]
  },
  {
   "cell_type": "code",
   "execution_count": 8,
   "id": "2cbb44d5-dc5a-47e3-bb70-e969ef63d101",
   "metadata": {},
   "outputs": [
    {
     "data": {
      "image/png": "[encoded data removed]",
      "text/plain": [
       "<Figure size 1000x600 with 1 Axes>"
      ]
     },
     "metadata": {},
     "output_type": "display_data"
    }
   ],
   "source": [
    "plt.figure(figsize=(10, 6))\n",
    "bars = plt.bar(recommendations['post_id'], recommendations['similarity'], color='skyblue')\n",
    "#Creates a bar charts showing similarity  scores of the recommendations\n",
    "\n",
    "# Add text labels\n",
    "for bar in bars: #Loops through each bar in the bar chart\n",
    "    height = bar.get_height() #Gets the height value of the current bar\n",
    "    plt.text(bar.get_x() + bar.get_width()/2., height, #Centers the text horizontally above the bar\n",
    "             f'{height:.2f}', #This formats the text to show the height with two decimal places\n",
    "             ha='center', va='bottom') #this aligns the text to the center horizontally and at the bottom vertically\n",
    "\n",
    "# Formatting\n",
    "plt.title('Top 5 Recommended Posts by Similarity Score', fontsize=14) #we sets the title of the plot with a font size of 14\n",
    "plt.xlabel('Post ID', fontsize=12) #A labels the x-axis as (Post ID) with a font size of 12\n",
    "plt.ylabel('Similarity Score', fontsize=12) #A labels the y-axis as (Similarity Score) with a font size of 12.\n",
    "plt.ylim(0, 1.1) #sets the range of the y-axis from 0 to 1.1 to give some space above the bars.\n",
    "plt.grid(axis='y', linestyle='--', alpha=0.7) #Adds a grid for the y-axis with dashed lines and transparency (alpha = 0.7)\n",
    "plt.tight_layout() #Adjusts the layout to ensure everything fits without overlap\n",
    "plt.show() #Displays the plot"
   ]
  },
  {
   "cell_type": "code",
   "execution_count": null,
   "id": "811b919d-938c-4173-830e-6ef3d81cbb4a",
   "metadata": {},
   "outputs": [],
   "source": []
  }
 ],
 "metadata": {
  "kernelspec": {
   "display_name": "Python 3 (ipykernel)",
   "language": "python",
   "name": "python3"
  },
  "language_info": {
   "codemirror_mode": {
    "name": "ipython",
    "version": 3
   },
   "file_extension": ".py",
   "mimetype": "text/x-python",
   "name": "python",
   "nbconvert_exporter": "python",
   "pygments_lexer": "ipython3",
   "version": "3.12.6"
  }
 },
 "nbformat": 4,
 "nbformat_minor": 5
}
